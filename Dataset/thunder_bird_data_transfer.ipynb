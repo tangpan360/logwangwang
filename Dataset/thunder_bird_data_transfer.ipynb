{
 "cells": [
  {
   "cell_type": "code",
   "execution_count": 4,
   "metadata": {},
   "outputs": [],
   "source": [
    "windows_size = 20\n",
    "step_size = 4"
   ]
  },
  {
   "cell_type": "code",
   "execution_count": 5,
   "metadata": {},
   "outputs": [
    {
     "name": "stdout",
     "output_type": "stream",
     "text": [
      "INFO: Pandarallel will run on 6 workers.\n",
      "INFO: Pandarallel will use Memory file system to transfer data between the main process and workers.\n"
     ]
    }
   ],
   "source": [
    "import pandas as pd\n",
    "\n",
    "from pandarallel import pandarallel\n",
    "pandarallel.initialize(progress_bar=True, shm_size_mb=4096*4)\n",
    "\n",
    "from transformers import BertTokenizer\n",
    "\n",
    "import warnings\n",
    "warnings.filterwarnings('ignore')\n",
    "\n",
    "import numpy as np"
   ]
  },
  {
   "cell_type": "code",
   "execution_count": 7,
   "metadata": {},
   "outputs": [],
   "source": [
    "thunderbird_df = pd.read_feather('./Thunderbird.log_structured.feather')"
   ]
  },
  {
   "cell_type": "code",
   "execution_count": 8,
   "metadata": {},
   "outputs": [
    {
     "data": {
      "text/plain": "        Label        Date                                      EventTemplate\n0           -  2005.11.09               tftp: client does not accept options\n1           -  2005.11.09  warning: unable to look up public/pickup: No s...\n2           -  2005.11.09  warning: unable to look up public/pickup: No s...\n3           -  2005.11.09  warning: unable to look up public/pickup: No s...\n4           -  2005.11.09  warning: unable to look up public/pickup: No s...\n...       ...         ...                                                ...\n4999995     -  2005.11.18                          <*> on <*> to <*> via <*>\n4999996     -  2005.11.18                      DHCPDISCOVER from <*> via <*>\n4999997     -  2005.11.18                      DHCPDISCOVER from <*> via <*>\n4999998     -  2005.11.18                          <*> on <*> to <*> via <*>\n4999999     -  2005.11.18                          <*> on <*> to <*> via <*>\n\n[5000000 rows x 3 columns]",
      "text/html": "<div>\n<style scoped>\n    .dataframe tbody tr th:only-of-type {\n        vertical-align: middle;\n    }\n\n    .dataframe tbody tr th {\n        vertical-align: top;\n    }\n\n    .dataframe thead th {\n        text-align: right;\n    }\n</style>\n<table border=\"1\" class=\"dataframe\">\n  <thead>\n    <tr style=\"text-align: right;\">\n      <th></th>\n      <th>Label</th>\n      <th>Date</th>\n      <th>EventTemplate</th>\n    </tr>\n  </thead>\n  <tbody>\n    <tr>\n      <th>0</th>\n      <td>-</td>\n      <td>2005.11.09</td>\n      <td>tftp: client does not accept options</td>\n    </tr>\n    <tr>\n      <th>1</th>\n      <td>-</td>\n      <td>2005.11.09</td>\n      <td>warning: unable to look up public/pickup: No s...</td>\n    </tr>\n    <tr>\n      <th>2</th>\n      <td>-</td>\n      <td>2005.11.09</td>\n      <td>warning: unable to look up public/pickup: No s...</td>\n    </tr>\n    <tr>\n      <th>3</th>\n      <td>-</td>\n      <td>2005.11.09</td>\n      <td>warning: unable to look up public/pickup: No s...</td>\n    </tr>\n    <tr>\n      <th>4</th>\n      <td>-</td>\n      <td>2005.11.09</td>\n      <td>warning: unable to look up public/pickup: No s...</td>\n    </tr>\n    <tr>\n      <th>...</th>\n      <td>...</td>\n      <td>...</td>\n      <td>...</td>\n    </tr>\n    <tr>\n      <th>4999995</th>\n      <td>-</td>\n      <td>2005.11.18</td>\n      <td>&lt;*&gt; on &lt;*&gt; to &lt;*&gt; via &lt;*&gt;</td>\n    </tr>\n    <tr>\n      <th>4999996</th>\n      <td>-</td>\n      <td>2005.11.18</td>\n      <td>DHCPDISCOVER from &lt;*&gt; via &lt;*&gt;</td>\n    </tr>\n    <tr>\n      <th>4999997</th>\n      <td>-</td>\n      <td>2005.11.18</td>\n      <td>DHCPDISCOVER from &lt;*&gt; via &lt;*&gt;</td>\n    </tr>\n    <tr>\n      <th>4999998</th>\n      <td>-</td>\n      <td>2005.11.18</td>\n      <td>&lt;*&gt; on &lt;*&gt; to &lt;*&gt; via &lt;*&gt;</td>\n    </tr>\n    <tr>\n      <th>4999999</th>\n      <td>-</td>\n      <td>2005.11.18</td>\n      <td>&lt;*&gt; on &lt;*&gt; to &lt;*&gt; via &lt;*&gt;</td>\n    </tr>\n  </tbody>\n</table>\n<p>5000000 rows × 3 columns</p>\n</div>"
     },
     "execution_count": 8,
     "metadata": {},
     "output_type": "execute_result"
    }
   ],
   "source": [
    "thunderbird_df_part = thunderbird_df[['Label', 'Date', 'EventTemplate']]\n",
    "thunderbird_df_part"
   ]
  },
  {
   "cell_type": "code",
   "execution_count": 5,
   "metadata": {},
   "outputs": [
    {
     "data": {
      "text/html": [
       "<div>\n",
       "<style scoped>\n",
       "    .dataframe tbody tr th:only-of-type {\n",
       "        vertical-align: middle;\n",
       "    }\n",
       "\n",
       "    .dataframe tbody tr th {\n",
       "        vertical-align: top;\n",
       "    }\n",
       "\n",
       "    .dataframe thead th {\n",
       "        text-align: right;\n",
       "    }\n",
       "</style>\n",
       "<table border=\"1\" class=\"dataframe\">\n",
       "  <thead>\n",
       "    <tr style=\"text-align: right;\">\n",
       "      <th></th>\n",
       "      <th>Label</th>\n",
       "      <th>Date</th>\n",
       "      <th>EventTemplate</th>\n",
       "    </tr>\n",
       "  </thead>\n",
       "  <tbody>\n",
       "    <tr>\n",
       "      <th>0</th>\n",
       "      <td>-</td>\n",
       "      <td>2005.11.09</td>\n",
       "      <td>tftp: client does not accept options</td>\n",
       "    </tr>\n",
       "    <tr>\n",
       "      <th>1</th>\n",
       "      <td>-</td>\n",
       "      <td>2005.11.09</td>\n",
       "      <td>warning: unable to look up public/pickup: No s...</td>\n",
       "    </tr>\n",
       "    <tr>\n",
       "      <th>2</th>\n",
       "      <td>-</td>\n",
       "      <td>2005.11.09</td>\n",
       "      <td>warning: unable to look up public/pickup: No s...</td>\n",
       "    </tr>\n",
       "    <tr>\n",
       "      <th>3</th>\n",
       "      <td>-</td>\n",
       "      <td>2005.11.09</td>\n",
       "      <td>warning: unable to look up public/pickup: No s...</td>\n",
       "    </tr>\n",
       "    <tr>\n",
       "      <th>4</th>\n",
       "      <td>-</td>\n",
       "      <td>2005.11.09</td>\n",
       "      <td>warning: unable to look up public/pickup: No s...</td>\n",
       "    </tr>\n",
       "    <tr>\n",
       "      <th>...</th>\n",
       "      <td>...</td>\n",
       "      <td>...</td>\n",
       "      <td>...</td>\n",
       "    </tr>\n",
       "    <tr>\n",
       "      <th>3212578</th>\n",
       "      <td>-</td>\n",
       "      <td>2005.11.18</td>\n",
       "      <td>DHCPDISCOVER from &lt;*&gt; via eth1: network &lt;*&gt; no...</td>\n",
       "    </tr>\n",
       "    <tr>\n",
       "      <th>3212579</th>\n",
       "      <td>-</td>\n",
       "      <td>2005.11.18</td>\n",
       "      <td>DHCPREQUEST for &lt;*&gt; (&lt;*&gt;) from &lt;*&gt; via eth1: u...</td>\n",
       "    </tr>\n",
       "    <tr>\n",
       "      <th>3212580</th>\n",
       "      <td>-</td>\n",
       "      <td>2005.11.18</td>\n",
       "      <td>Instrumentation Service EventID: 1052 Temperat...</td>\n",
       "    </tr>\n",
       "    <tr>\n",
       "      <th>3212581</th>\n",
       "      <td>-</td>\n",
       "      <td>2005.11.18</td>\n",
       "      <td>Instrumentation Service EventID: 1052 Temperat...</td>\n",
       "    </tr>\n",
       "    <tr>\n",
       "      <th>3212582</th>\n",
       "      <td>-</td>\n",
       "      <td>2005.11.18</td>\n",
       "      <td>data_thread() got not answer from any &lt;*&gt; data...</td>\n",
       "    </tr>\n",
       "  </tbody>\n",
       "</table>\n",
       "<p>3212583 rows × 3 columns</p>\n",
       "</div>"
      ],
      "text/plain": [
       "        Label        Date                                      EventTemplate\n",
       "0           -  2005.11.09               tftp: client does not accept options\n",
       "1           -  2005.11.09  warning: unable to look up public/pickup: No s...\n",
       "2           -  2005.11.09  warning: unable to look up public/pickup: No s...\n",
       "3           -  2005.11.09  warning: unable to look up public/pickup: No s...\n",
       "4           -  2005.11.09  warning: unable to look up public/pickup: No s...\n",
       "...       ...         ...                                                ...\n",
       "3212578     -  2005.11.18  DHCPDISCOVER from <*> via eth1: network <*> no...\n",
       "3212579     -  2005.11.18  DHCPREQUEST for <*> (<*>) from <*> via eth1: u...\n",
       "3212580     -  2005.11.18  Instrumentation Service EventID: 1052 Temperat...\n",
       "3212581     -  2005.11.18  Instrumentation Service EventID: 1052 Temperat...\n",
       "3212582     -  2005.11.18  data_thread() got not answer from any <*> data...\n",
       "\n",
       "[3212583 rows x 3 columns]"
      ]
     },
     "execution_count": 5,
     "metadata": {},
     "output_type": "execute_result"
    }
   ],
   "source": [
    "# def minimum_length_drop(df: pd.DataFrame, feature: str, minimum_length: int = 35):\n",
    "#\n",
    "#         df = df.loc[df[feature].str.len() > minimum_length].reset_index(drop=True)\n",
    "#\n",
    "#         return df\n",
    "#\n",
    "# thunderbird_df_part = minimum_length_drop(thunderbird_df_part, feature='EventTemplate')\n",
    "# thunderbird_df_part"
   ]
  },
  {
   "cell_type": "code",
   "execution_count": null,
   "metadata": {},
   "outputs": [],
   "source": []
  },
  {
   "cell_type": "code",
   "execution_count": 10,
   "metadata": {},
   "outputs": [],
   "source": [
    "bert_tokenizer = BertTokenizer.from_pretrained('../bert_tiny_checkpoint')\n",
    "\n",
    "def get_sen_token(sequence: str):\n",
    "    return bert_tokenizer(sequence, return_tensors='pt', padding=False, truncation=True, max_length=512)"
   ]
  },
  {
   "cell_type": "code",
   "execution_count": 11,
   "metadata": {},
   "outputs": [],
   "source": [
    "template_index = thunderbird_df['EventTemplate'].value_counts().index.to_list()"
   ]
  },
  {
   "cell_type": "code",
   "execution_count": 12,
   "metadata": {},
   "outputs": [],
   "source": [
    "template_dict = {template: get_sen_token(template) for template in template_index}"
   ]
  },
  {
   "cell_type": "code",
   "execution_count": 13,
   "metadata": {},
   "outputs": [],
   "source": [
    "thunderbird_df_part['Label'] = thunderbird_df_part['Label'].apply(lambda x: int(x != '-'))"
   ]
  },
  {
   "cell_type": "code",
   "execution_count": 14,
   "metadata": {},
   "outputs": [
    {
     "data": {
      "text/plain": "Label\n0    4773247\n1     226753\nName: count, dtype: int64"
     },
     "execution_count": 14,
     "metadata": {},
     "output_type": "execute_result"
    }
   ],
   "source": [
    "thunderbird_df_part['Label'].value_counts()"
   ]
  },
  {
   "cell_type": "code",
   "execution_count": 15,
   "metadata": {},
   "outputs": [],
   "source": [
    "thunderbird_df_part['Token_dict'] = thunderbird_df_part['EventTemplate'].map(template_dict)"
   ]
  },
  {
   "cell_type": "code",
   "execution_count": 16,
   "metadata": {},
   "outputs": [],
   "source": [
    "thunderbird_df_part['input_ids'] = thunderbird_df_part['Token_dict'].apply(lambda x: x['input_ids'].squeeze(0))\n",
    "thunderbird_df_part['token_type_ids'] = thunderbird_df_part['Token_dict'].apply(lambda x: x['token_type_ids'].squeeze(0))\n",
    "thunderbird_df_part['attention_mask'] = thunderbird_df_part['Token_dict'].apply(lambda x: x['attention_mask'].squeeze(0))"
   ]
  },
  {
   "cell_type": "code",
   "execution_count": 17,
   "metadata": {},
   "outputs": [
    {
     "data": {
      "text/plain": "         Label        Date                                      EventTemplate  \\\n0            0  2005.11.09               tftp: client does not accept options   \n1            0  2005.11.09  warning: unable to look up public/pickup: No s...   \n2            0  2005.11.09  warning: unable to look up public/pickup: No s...   \n3            0  2005.11.09  warning: unable to look up public/pickup: No s...   \n4            0  2005.11.09  warning: unable to look up public/pickup: No s...   \n...        ...         ...                                                ...   \n4999995      0  2005.11.18                          <*> on <*> to <*> via <*>   \n4999996      0  2005.11.18                      DHCPDISCOVER from <*> via <*>   \n4999997      0  2005.11.18                      DHCPDISCOVER from <*> via <*>   \n4999998      0  2005.11.18                          <*> on <*> to <*> via <*>   \n4999999      0  2005.11.18                          <*> on <*> to <*> via <*>   \n\n                                          Token_dict  \\\n0        [input_ids, token_type_ids, attention_mask]   \n1        [input_ids, token_type_ids, attention_mask]   \n2        [input_ids, token_type_ids, attention_mask]   \n3        [input_ids, token_type_ids, attention_mask]   \n4        [input_ids, token_type_ids, attention_mask]   \n...                                              ...   \n4999995  [input_ids, token_type_ids, attention_mask]   \n4999996  [input_ids, token_type_ids, attention_mask]   \n4999997  [input_ids, token_type_ids, attention_mask]   \n4999998  [input_ids, token_type_ids, attention_mask]   \n4999999  [input_ids, token_type_ids, attention_mask]   \n\n                                                 input_ids  \\\n0        [tensor(101), tensor(1056), tensor(6199), tens...   \n1        [tensor(101), tensor(5432), tensor(1024), tens...   \n2        [tensor(101), tensor(5432), tensor(1024), tens...   \n3        [tensor(101), tensor(5432), tensor(1024), tens...   \n4        [tensor(101), tensor(5432), tensor(1024), tens...   \n...                                                    ...   \n4999995  [tensor(101), tensor(1026), tensor(1008), tens...   \n4999996  [tensor(101), tensor(28144), tensor(21906), te...   \n4999997  [tensor(101), tensor(28144), tensor(21906), te...   \n4999998  [tensor(101), tensor(1026), tensor(1008), tens...   \n4999999  [tensor(101), tensor(1026), tensor(1008), tens...   \n\n                                            token_type_ids  \\\n0        [tensor(0), tensor(0), tensor(0), tensor(0), t...   \n1        [tensor(0), tensor(0), tensor(0), tensor(0), t...   \n2        [tensor(0), tensor(0), tensor(0), tensor(0), t...   \n3        [tensor(0), tensor(0), tensor(0), tensor(0), t...   \n4        [tensor(0), tensor(0), tensor(0), tensor(0), t...   \n...                                                    ...   \n4999995  [tensor(0), tensor(0), tensor(0), tensor(0), t...   \n4999996  [tensor(0), tensor(0), tensor(0), tensor(0), t...   \n4999997  [tensor(0), tensor(0), tensor(0), tensor(0), t...   \n4999998  [tensor(0), tensor(0), tensor(0), tensor(0), t...   \n4999999  [tensor(0), tensor(0), tensor(0), tensor(0), t...   \n\n                                            attention_mask  \n0        [tensor(1), tensor(1), tensor(1), tensor(1), t...  \n1        [tensor(1), tensor(1), tensor(1), tensor(1), t...  \n2        [tensor(1), tensor(1), tensor(1), tensor(1), t...  \n3        [tensor(1), tensor(1), tensor(1), tensor(1), t...  \n4        [tensor(1), tensor(1), tensor(1), tensor(1), t...  \n...                                                    ...  \n4999995  [tensor(1), tensor(1), tensor(1), tensor(1), t...  \n4999996  [tensor(1), tensor(1), tensor(1), tensor(1), t...  \n4999997  [tensor(1), tensor(1), tensor(1), tensor(1), t...  \n4999998  [tensor(1), tensor(1), tensor(1), tensor(1), t...  \n4999999  [tensor(1), tensor(1), tensor(1), tensor(1), t...  \n\n[5000000 rows x 7 columns]",
      "text/html": "<div>\n<style scoped>\n    .dataframe tbody tr th:only-of-type {\n        vertical-align: middle;\n    }\n\n    .dataframe tbody tr th {\n        vertical-align: top;\n    }\n\n    .dataframe thead th {\n        text-align: right;\n    }\n</style>\n<table border=\"1\" class=\"dataframe\">\n  <thead>\n    <tr style=\"text-align: right;\">\n      <th></th>\n      <th>Label</th>\n      <th>Date</th>\n      <th>EventTemplate</th>\n      <th>Token_dict</th>\n      <th>input_ids</th>\n      <th>token_type_ids</th>\n      <th>attention_mask</th>\n    </tr>\n  </thead>\n  <tbody>\n    <tr>\n      <th>0</th>\n      <td>0</td>\n      <td>2005.11.09</td>\n      <td>tftp: client does not accept options</td>\n      <td>[input_ids, token_type_ids, attention_mask]</td>\n      <td>[tensor(101), tensor(1056), tensor(6199), tens...</td>\n      <td>[tensor(0), tensor(0), tensor(0), tensor(0), t...</td>\n      <td>[tensor(1), tensor(1), tensor(1), tensor(1), t...</td>\n    </tr>\n    <tr>\n      <th>1</th>\n      <td>0</td>\n      <td>2005.11.09</td>\n      <td>warning: unable to look up public/pickup: No s...</td>\n      <td>[input_ids, token_type_ids, attention_mask]</td>\n      <td>[tensor(101), tensor(5432), tensor(1024), tens...</td>\n      <td>[tensor(0), tensor(0), tensor(0), tensor(0), t...</td>\n      <td>[tensor(1), tensor(1), tensor(1), tensor(1), t...</td>\n    </tr>\n    <tr>\n      <th>2</th>\n      <td>0</td>\n      <td>2005.11.09</td>\n      <td>warning: unable to look up public/pickup: No s...</td>\n      <td>[input_ids, token_type_ids, attention_mask]</td>\n      <td>[tensor(101), tensor(5432), tensor(1024), tens...</td>\n      <td>[tensor(0), tensor(0), tensor(0), tensor(0), t...</td>\n      <td>[tensor(1), tensor(1), tensor(1), tensor(1), t...</td>\n    </tr>\n    <tr>\n      <th>3</th>\n      <td>0</td>\n      <td>2005.11.09</td>\n      <td>warning: unable to look up public/pickup: No s...</td>\n      <td>[input_ids, token_type_ids, attention_mask]</td>\n      <td>[tensor(101), tensor(5432), tensor(1024), tens...</td>\n      <td>[tensor(0), tensor(0), tensor(0), tensor(0), t...</td>\n      <td>[tensor(1), tensor(1), tensor(1), tensor(1), t...</td>\n    </tr>\n    <tr>\n      <th>4</th>\n      <td>0</td>\n      <td>2005.11.09</td>\n      <td>warning: unable to look up public/pickup: No s...</td>\n      <td>[input_ids, token_type_ids, attention_mask]</td>\n      <td>[tensor(101), tensor(5432), tensor(1024), tens...</td>\n      <td>[tensor(0), tensor(0), tensor(0), tensor(0), t...</td>\n      <td>[tensor(1), tensor(1), tensor(1), tensor(1), t...</td>\n    </tr>\n    <tr>\n      <th>...</th>\n      <td>...</td>\n      <td>...</td>\n      <td>...</td>\n      <td>...</td>\n      <td>...</td>\n      <td>...</td>\n      <td>...</td>\n    </tr>\n    <tr>\n      <th>4999995</th>\n      <td>0</td>\n      <td>2005.11.18</td>\n      <td>&lt;*&gt; on &lt;*&gt; to &lt;*&gt; via &lt;*&gt;</td>\n      <td>[input_ids, token_type_ids, attention_mask]</td>\n      <td>[tensor(101), tensor(1026), tensor(1008), tens...</td>\n      <td>[tensor(0), tensor(0), tensor(0), tensor(0), t...</td>\n      <td>[tensor(1), tensor(1), tensor(1), tensor(1), t...</td>\n    </tr>\n    <tr>\n      <th>4999996</th>\n      <td>0</td>\n      <td>2005.11.18</td>\n      <td>DHCPDISCOVER from &lt;*&gt; via &lt;*&gt;</td>\n      <td>[input_ids, token_type_ids, attention_mask]</td>\n      <td>[tensor(101), tensor(28144), tensor(21906), te...</td>\n      <td>[tensor(0), tensor(0), tensor(0), tensor(0), t...</td>\n      <td>[tensor(1), tensor(1), tensor(1), tensor(1), t...</td>\n    </tr>\n    <tr>\n      <th>4999997</th>\n      <td>0</td>\n      <td>2005.11.18</td>\n      <td>DHCPDISCOVER from &lt;*&gt; via &lt;*&gt;</td>\n      <td>[input_ids, token_type_ids, attention_mask]</td>\n      <td>[tensor(101), tensor(28144), tensor(21906), te...</td>\n      <td>[tensor(0), tensor(0), tensor(0), tensor(0), t...</td>\n      <td>[tensor(1), tensor(1), tensor(1), tensor(1), t...</td>\n    </tr>\n    <tr>\n      <th>4999998</th>\n      <td>0</td>\n      <td>2005.11.18</td>\n      <td>&lt;*&gt; on &lt;*&gt; to &lt;*&gt; via &lt;*&gt;</td>\n      <td>[input_ids, token_type_ids, attention_mask]</td>\n      <td>[tensor(101), tensor(1026), tensor(1008), tens...</td>\n      <td>[tensor(0), tensor(0), tensor(0), tensor(0), t...</td>\n      <td>[tensor(1), tensor(1), tensor(1), tensor(1), t...</td>\n    </tr>\n    <tr>\n      <th>4999999</th>\n      <td>0</td>\n      <td>2005.11.18</td>\n      <td>&lt;*&gt; on &lt;*&gt; to &lt;*&gt; via &lt;*&gt;</td>\n      <td>[input_ids, token_type_ids, attention_mask]</td>\n      <td>[tensor(101), tensor(1026), tensor(1008), tens...</td>\n      <td>[tensor(0), tensor(0), tensor(0), tensor(0), t...</td>\n      <td>[tensor(1), tensor(1), tensor(1), tensor(1), t...</td>\n    </tr>\n  </tbody>\n</table>\n<p>5000000 rows × 7 columns</p>\n</div>"
     },
     "execution_count": 17,
     "metadata": {},
     "output_type": "execute_result"
    }
   ],
   "source": [
    "thunderbird_df_part"
   ]
  },
  {
   "cell_type": "code",
   "execution_count": 18,
   "metadata": {},
   "outputs": [
    {
     "data": {
      "text/plain": "5000000"
     },
     "execution_count": 18,
     "metadata": {},
     "output_type": "execute_result"
    }
   ],
   "source": [
    "thunderbird_df_part.shape[0]"
   ]
  },
  {
   "cell_type": "code",
   "execution_count": 19,
   "metadata": {},
   "outputs": [],
   "source": [
    "import torch\n",
    "\n",
    "def Sliding_window(df: pd.DataFrame, window_size: int = 20, step_size: int = 4):\n",
    "\n",
    "    date_list = list()\n",
    "    input_ids_list = list()\n",
    "    attention_mask_list = list()\n",
    "    label_list = list()\n",
    "\n",
    "    for idx in np.arange(0, thunderbird_df_part.shape[0], step=step_size, dtype=int):\n",
    "        try:\n",
    "            date_list.append(df['Date'].values[idx])\n",
    "            \n",
    "            input_ids_tensor = torch.cat([torch.Tensor([101]), torch.cat([i[1:] for i in df['input_ids'].values[idx: idx+window_size]], dim=0)], dim=0)\n",
    "            if input_ids_tensor.shape[0] > 512:\n",
    "                input_ids_tensor = input_ids_tensor[:512]\n",
    "            else:\n",
    "                input_ids_tensor = torch.cat([input_ids_tensor, torch.tile(torch.Tensor([0.]), (512 - input_ids_tensor.shape[0], ))], dim=0)\n",
    "            input_ids_list.append(input_ids_tensor.numpy())\n",
    "\n",
    "            attention_mask_tensor = torch.cat([torch.Tensor([1]), torch.cat([i[1:] for i in df['attention_mask'].values[idx: idx+window_size]], dim=0)], dim=0)\n",
    "            if attention_mask_tensor.shape[0] > 512:\n",
    "                attention_mask_tensor = attention_mask_tensor[:512]\n",
    "            else:\n",
    "                attention_mask_tensor = torch.cat([attention_mask_tensor, torch.tile(torch.Tensor([0.]), (512 - attention_mask_tensor.shape[0], ))], dim=0)\n",
    "            attention_mask_list.append(attention_mask_tensor.numpy())\n",
    "\n",
    "            label_list.append(max(df['Label'].values[idx: idx+window_size]))\n",
    "\n",
    "        except IndexError:\n",
    "            pass\n",
    "\n",
    "    return {'date': date_list,\n",
    "            'input_ids': input_ids_list,\n",
    "            'attention_mask': attention_mask_list,\n",
    "            'label': label_list}"
   ]
  },
  {
   "cell_type": "code",
   "execution_count": 20,
   "metadata": {},
   "outputs": [],
   "source": [
    "import torch\n",
    "\n",
    "data_dict = Sliding_window(df=thunderbird_df_part, )"
   ]
  },
  {
   "cell_type": "code",
   "execution_count": 21,
   "metadata": {},
   "outputs": [],
   "source": [
    "data_df = pd.DataFrame(data_dict)"
   ]
  },
  {
   "cell_type": "code",
   "execution_count": 22,
   "metadata": {},
   "outputs": [
    {
     "data": {
      "text/plain": "label\n0    876863\n1    373137\nName: count, dtype: int64"
     },
     "execution_count": 22,
     "metadata": {},
     "output_type": "execute_result"
    }
   ],
   "source": [
    "data_df['label'].value_counts()"
   ]
  },
  {
   "cell_type": "code",
   "execution_count": 23,
   "metadata": {},
   "outputs": [],
   "source": [
    "data_df.to_feather('Thunderbird.log_structured_slided.feather')"
   ]
  },
  {
   "cell_type": "code",
   "execution_count": null,
   "outputs": [],
   "source": [],
   "metadata": {
    "collapsed": false,
    "pycharm": {
     "name": "#%%\n"
    }
   }
  }
 ],
 "metadata": {
  "kernelspec": {
   "display_name": "wang",
   "language": "python",
   "name": "python3"
  },
  "language_info": {
   "codemirror_mode": {
    "name": "ipython",
    "version": 3
   },
   "file_extension": ".py",
   "mimetype": "text/x-python",
   "name": "python",
   "nbconvert_exporter": "python",
   "pygments_lexer": "ipython3",
   "version": "3.9.7"
  }
 },
 "nbformat": 4,
 "nbformat_minor": 2
}